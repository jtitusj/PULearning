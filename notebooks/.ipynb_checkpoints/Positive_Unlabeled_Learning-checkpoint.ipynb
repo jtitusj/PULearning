{
 "cells": [
  {
   "cell_type": "markdown",
   "metadata": {
    "colab_type": "text",
    "hide_input": true,
    "id": "JEk1wfY-J4f9",
    "slideshow": {
     "slide_type": "slide"
    }
   },
   "source": [
    "# Positive-Unlabeled (PU) Learning\n",
    "\n",
    "We are more familiar with\n",
    "\n",
    "**Supervised Learning**, wherein we have a set of features $X$, and a set of labels $y$ where the goal is to create a mapping $f:X\\mapsto y$ and \n",
    "\n",
    "**Unsupervised Learning**, wherein given a set of features $X$, we want to identify latent patterns to \n",
    "1. reduce dimensionality\n",
    "2. cluster data \n",
    "3. or detect potential anomalies."
   ]
  },
  {
   "cell_type": "markdown",
   "metadata": {
    "colab_type": "text",
    "id": "FZ5xlBH8xlth",
    "slideshow": {
     "slide_type": "slide"
    }
   },
   "source": [
    "## Motivation\n",
    "- In the healthcare space, positive diagnosis for different medical conditions for medical conditions such as Type 2 Diabetes Mellitus (T2D) and Depression/Anxiety is fairly common, and is often captured through medical claims record.\n",
    "- However, what is less common is labeled information for individuals without the condition. In many medical conditions, a lot of cases remain undiagnosed."
   ]
  },
  {
   "cell_type": "markdown",
   "metadata": {
    "slideshow": {
     "slide_type": "subslide"
    }
   },
   "source": [
    "Oftentimes, the problem of identifying potentially undiagnosed cases is framed as a supervised machine learning with some reasonable assumptions. One variation of this approach is the following:"
   ]
  },
  {
   "cell_type": "markdown",
   "metadata": {
    "slideshow": {
     "slide_type": "subslide"
    }
   },
   "source": [
    "- Given a defined time interval T where all the samples in the dataset has no medical records for the target condition, we get all available dataset and extract variables that we can use for modeling. \n",
    "- This will serve as our feature data X. \n",
    "- We then assign a label 1 (positive class) if the person has a medical record of the target condition on the target time period after T, \n",
    "- and label 0 (negative class) if the person didn't have a medical record."
   ]
  },
  {
   "cell_type": "markdown",
   "metadata": {
    "slideshow": {
     "slide_type": "subslide"
    }
   },
   "source": [
    "One obvious limitation of this approach is that **the absence of a medical claims record for a medical condition does not imply the absense of the medical condition itself.**"
   ]
  },
  {
   "cell_type": "markdown",
   "metadata": {
    "slideshow": {
     "slide_type": "slide"
    }
   },
   "source": [
    "In this notebook, we would like to explore an alternative learning approach which is called Positive-Unlabeled (PU) Learning which does not necessarily use the same assumption."
   ]
  },
  {
   "cell_type": "code",
   "execution_count": 1,
   "metadata": {
    "ExecuteTime": {
     "end_time": "2020-07-16T16:01:18.291114Z",
     "start_time": "2020-07-16T16:01:18.285023Z"
    },
    "slideshow": {
     "slide_type": "skip"
    }
   },
   "outputs": [],
   "source": [
    "# conda install -c conda-forge rise"
   ]
  },
  {
   "cell_type": "markdown",
   "metadata": {
    "colab_type": "text",
    "id": "jKUMa8zZxwQM",
    "slideshow": {
     "slide_type": "slide"
    }
   },
   "source": [
    "## Research Questions\n",
    "1. What are the methods used in PU Learning?\n",
    "2. How does the performance of PU Learning compare with Supervised Learning in terms of detecting previously unseen data?"
   ]
  },
  {
   "cell_type": "markdown",
   "metadata": {
    "colab_type": "text",
    "id": "eWcPqfVx31Lh",
    "slideshow": {
     "slide_type": "slide"
    }
   },
   "source": [
    "## Data\n",
    "\n",
    "For this demo, we will use the Banknote Authentication Dataset which can be downloaded [here](http://archive.ics.uci.edu/ml/datasets/banknote+authentication)."
   ]
  },
  {
   "cell_type": "markdown",
   "metadata": {
    "colab_type": "text",
    "id": "cF7ig2fh_UFj",
    "slideshow": {
     "slide_type": "slide"
    }
   },
   "source": [
    "### Load Data"
   ]
  },
  {
   "cell_type": "code",
   "execution_count": 2,
   "metadata": {
    "ExecuteTime": {
     "end_time": "2020-07-16T16:01:23.546651Z",
     "start_time": "2020-07-16T16:01:18.296692Z"
    },
    "colab": {
     "base_uri": "https://localhost:8080/",
     "height": 204
    },
    "colab_type": "code",
    "id": "ROxNIlod46D8",
    "outputId": "0d1a7a5f-4e85-471e-f6d8-80056f152c0e",
    "slideshow": {
     "slide_type": "subslide"
    }
   },
   "outputs": [
    {
     "data": {
      "text/html": [
       "<div>\n",
       "<style scoped>\n",
       "    .dataframe tbody tr th:only-of-type {\n",
       "        vertical-align: middle;\n",
       "    }\n",
       "\n",
       "    .dataframe tbody tr th {\n",
       "        vertical-align: top;\n",
       "    }\n",
       "\n",
       "    .dataframe thead th {\n",
       "        text-align: right;\n",
       "    }\n",
       "</style>\n",
       "<table border=\"1\" class=\"dataframe\">\n",
       "  <thead>\n",
       "    <tr style=\"text-align: right;\">\n",
       "      <th></th>\n",
       "      <th>wavelet_variance</th>\n",
       "      <th>wavelet_skewness</th>\n",
       "      <th>wavelet_curtosis</th>\n",
       "      <th>image_entropy</th>\n",
       "      <th>is_fake</th>\n",
       "    </tr>\n",
       "  </thead>\n",
       "  <tbody>\n",
       "    <tr>\n",
       "      <th>0</th>\n",
       "      <td>3.62160</td>\n",
       "      <td>8.6661</td>\n",
       "      <td>-2.8073</td>\n",
       "      <td>-0.44699</td>\n",
       "      <td>0</td>\n",
       "    </tr>\n",
       "    <tr>\n",
       "      <th>1</th>\n",
       "      <td>4.54590</td>\n",
       "      <td>8.1674</td>\n",
       "      <td>-2.4586</td>\n",
       "      <td>-1.46210</td>\n",
       "      <td>0</td>\n",
       "    </tr>\n",
       "    <tr>\n",
       "      <th>2</th>\n",
       "      <td>3.86600</td>\n",
       "      <td>-2.6383</td>\n",
       "      <td>1.9242</td>\n",
       "      <td>0.10645</td>\n",
       "      <td>0</td>\n",
       "    </tr>\n",
       "    <tr>\n",
       "      <th>3</th>\n",
       "      <td>3.45660</td>\n",
       "      <td>9.5228</td>\n",
       "      <td>-4.0112</td>\n",
       "      <td>-3.59440</td>\n",
       "      <td>0</td>\n",
       "    </tr>\n",
       "    <tr>\n",
       "      <th>4</th>\n",
       "      <td>0.32924</td>\n",
       "      <td>-4.4552</td>\n",
       "      <td>4.5718</td>\n",
       "      <td>-0.98880</td>\n",
       "      <td>0</td>\n",
       "    </tr>\n",
       "  </tbody>\n",
       "</table>\n",
       "</div>"
      ],
      "text/plain": [
       "   wavelet_variance  wavelet_skewness  wavelet_curtosis  image_entropy  \\\n",
       "0           3.62160            8.6661           -2.8073       -0.44699   \n",
       "1           4.54590            8.1674           -2.4586       -1.46210   \n",
       "2           3.86600           -2.6383            1.9242        0.10645   \n",
       "3           3.45660            9.5228           -4.0112       -3.59440   \n",
       "4           0.32924           -4.4552            4.5718       -0.98880   \n",
       "\n",
       "   is_fake  \n",
       "0        0  \n",
       "1        0  \n",
       "2        0  \n",
       "3        0  \n",
       "4        0  "
      ]
     },
     "execution_count": 2,
     "metadata": {},
     "output_type": "execute_result"
    }
   ],
   "source": [
    "import numpy as np\n",
    "import pandas as pd\n",
    "\n",
    "df = pd.read_csv('../data/data_banknote_authentication.txt', header=None)\n",
    "df.columns = ['wavelet_variance',\n",
    "              'wavelet_skewness',\n",
    "              'wavelet_curtosis',\n",
    "              'image_entropy',\n",
    "              'is_fake']\n",
    "df.head()"
   ]
  },
  {
   "cell_type": "code",
   "execution_count": 3,
   "metadata": {
    "ExecuteTime": {
     "end_time": "2020-07-16T16:01:23.600664Z",
     "start_time": "2020-07-16T16:01:23.550701Z"
    },
    "colab": {
     "base_uri": "https://localhost:8080/",
     "height": 221
    },
    "colab_type": "code",
    "id": "jIBANbuQ6IKo",
    "outputId": "68e5af1a-c001-42f8-a615-e88176eb5eff",
    "slideshow": {
     "slide_type": "slide"
    }
   },
   "outputs": [
    {
     "name": "stdout",
     "output_type": "stream",
     "text": [
      "<class 'pandas.core.frame.DataFrame'>\n",
      "RangeIndex: 1372 entries, 0 to 1371\n",
      "Data columns (total 5 columns):\n",
      " #   Column            Non-Null Count  Dtype  \n",
      "---  ------            --------------  -----  \n",
      " 0   wavelet_variance  1372 non-null   float64\n",
      " 1   wavelet_skewness  1372 non-null   float64\n",
      " 2   wavelet_curtosis  1372 non-null   float64\n",
      " 3   image_entropy     1372 non-null   float64\n",
      " 4   is_fake           1372 non-null   int64  \n",
      "dtypes: float64(4), int64(1)\n",
      "memory usage: 53.7 KB\n"
     ]
    }
   ],
   "source": [
    "df.info()"
   ]
  },
  {
   "cell_type": "markdown",
   "metadata": {
    "colab_type": "text",
    "id": "5FQ2d9Ex6MgW",
    "slideshow": {
     "slide_type": "subslide"
    }
   },
   "source": [
    "This dataset has 1,372 rows and there are no null values."
   ]
  },
  {
   "cell_type": "code",
   "execution_count": 4,
   "metadata": {
    "ExecuteTime": {
     "end_time": "2020-07-16T16:01:23.665642Z",
     "start_time": "2020-07-16T16:01:23.616133Z"
    },
    "colab": {
     "base_uri": "https://localhost:8080/",
     "height": 68
    },
    "colab_type": "code",
    "id": "0ITEPVPq58aX",
    "outputId": "4550f241-1d75-4890-c4f3-e71277364d5b",
    "slideshow": {
     "slide_type": "subslide"
    }
   },
   "outputs": [
    {
     "data": {
      "text/plain": [
       "0    762\n",
       "1    610\n",
       "Name: is_fake, dtype: int64"
      ]
     },
     "execution_count": 4,
     "metadata": {},
     "output_type": "execute_result"
    }
   ],
   "source": [
    "# counts of positive and negative labels\n",
    "df.is_fake.value_counts()"
   ]
  },
  {
   "cell_type": "markdown",
   "metadata": {
    "colab_type": "text",
    "id": "AYxdiytIBl0T",
    "slideshow": {
     "slide_type": "subslide"
    }
   },
   "source": [
    "### Split to Train and Test Sets\n",
    "We will set aside a test set so that we can compare how PU learning compares to a supervised learning approach. Since our dataset is very small, we decide to work on approximately 1000 data points for building the model."
   ]
  },
  {
   "cell_type": "code",
   "execution_count": 5,
   "metadata": {
    "ExecuteTime": {
     "end_time": "2020-07-16T16:01:25.451065Z",
     "start_time": "2020-07-16T16:01:23.681842Z"
    },
    "colab": {
     "base_uri": "https://localhost:8080/",
     "height": 34
    },
    "colab_type": "code",
    "id": "Kb9wmh9GB57Q",
    "outputId": "e23edbdc-fb0a-41a1-d938-ec190183bef9",
    "slideshow": {
     "slide_type": "subslide"
    }
   },
   "outputs": [
    {
     "data": {
      "text/plain": [
       "((1029, 4), (343,))"
      ]
     },
     "execution_count": 5,
     "metadata": {},
     "output_type": "execute_result"
    }
   ],
   "source": [
    "from sklearn.model_selection import train_test_split\n",
    "\n",
    "x_data = df.iloc[:,:-1]\n",
    "y_data = df.iloc[:,-1]\n",
    "\n",
    "x_train, x_test, y_train, y_test = train_test_split(x_data,\n",
    "                                                    y_data,\n",
    "                                                    test_size=0.25,\n",
    "                                                    random_state=42)\n",
    "\n",
    "x_train.shape, y_test.shape"
   ]
  },
  {
   "cell_type": "code",
   "execution_count": 6,
   "metadata": {
    "ExecuteTime": {
     "end_time": "2020-07-16T16:01:25.472038Z",
     "start_time": "2020-07-16T16:01:25.459014Z"
    },
    "colab": {
     "base_uri": "https://localhost:8080/",
     "height": 68
    },
    "colab_type": "code",
    "id": "qN5x9hSfCow8",
    "outputId": "9c7f13e8-bf64-4c44-88aa-2d3788e89c89",
    "slideshow": {
     "slide_type": "subslide"
    }
   },
   "outputs": [
    {
     "data": {
      "text/plain": [
       "0    0.554908\n",
       "1    0.445092\n",
       "Name: is_fake, dtype: float64"
      ]
     },
     "execution_count": 6,
     "metadata": {},
     "output_type": "execute_result"
    }
   ],
   "source": [
    "# class proportions of training set\n",
    "y_train.value_counts() / len(y_train)"
   ]
  },
  {
   "cell_type": "code",
   "execution_count": 7,
   "metadata": {
    "ExecuteTime": {
     "end_time": "2020-07-16T16:01:25.512727Z",
     "start_time": "2020-07-16T16:01:25.478487Z"
    },
    "colab": {
     "base_uri": "https://localhost:8080/",
     "height": 68
    },
    "colab_type": "code",
    "id": "Nxs0LBQmC1Va",
    "outputId": "9dc61aba-2011-4660-e6f7-d3a053724180",
    "slideshow": {
     "slide_type": "subslide"
    }
   },
   "outputs": [
    {
     "data": {
      "text/plain": [
       "0    0.556851\n",
       "1    0.443149\n",
       "Name: is_fake, dtype: float64"
      ]
     },
     "execution_count": 7,
     "metadata": {},
     "output_type": "execute_result"
    }
   ],
   "source": [
    "# class proportions of test set\n",
    "y_test.value_counts() / len(y_test)"
   ]
  },
  {
   "cell_type": "code",
   "execution_count": 8,
   "metadata": {
    "ExecuteTime": {
     "end_time": "2020-07-16T16:01:25.590221Z",
     "start_time": "2020-07-16T16:01:25.531886Z"
    },
    "colab": {
     "base_uri": "https://localhost:8080/",
     "height": 68
    },
    "colab_type": "code",
    "id": "hiw9H41HEumk",
    "outputId": "a5efb783-2188-4e7a-f0d3-e2a16d557e27",
    "slideshow": {
     "slide_type": "subslide"
    }
   },
   "outputs": [
    {
     "data": {
      "text/plain": [
       "0    571\n",
       "1    458\n",
       "Name: is_fake, dtype: int64"
      ]
     },
     "execution_count": 8,
     "metadata": {},
     "output_type": "execute_result"
    }
   ],
   "source": [
    "y_train.value_counts()"
   ]
  },
  {
   "cell_type": "markdown",
   "metadata": {
    "colab_type": "text",
    "id": "5E-4an6_6TEE",
    "slideshow": {
     "slide_type": "slide"
    }
   },
   "source": [
    "### Setup Data for PU Learning\n",
    "From the training set, suppose that only 250 (chosen arbitrarily) of the fake values are labeled. Also, when we train the benchmark model for supervised learning, we will only use these 250 positive labeled rows and the 571 negatively labeled values."
   ]
  },
  {
   "cell_type": "code",
   "execution_count": 9,
   "metadata": {
    "ExecuteTime": {
     "end_time": "2020-07-16T16:01:25.635836Z",
     "start_time": "2020-07-16T16:01:25.596107Z"
    },
    "colab": {
     "base_uri": "https://localhost:8080/",
     "height": 68
    },
    "colab_type": "code",
    "id": "WaJeaOX2-ekD",
    "outputId": "5df02450-eb98-41ab-fc68-aced1e4c3336",
    "slideshow": {
     "slide_type": "subslide"
    }
   },
   "outputs": [
    {
     "data": {
      "text/plain": [
       "0    571\n",
       "1    250\n",
       "Name: is_fake, dtype: int64"
      ]
     },
     "execution_count": 9,
     "metadata": {},
     "output_type": "execute_result"
    }
   ],
   "source": [
    "n = 250\n",
    "seed = 42\n",
    "\n",
    "# identify sample indices\n",
    "idx = y_train[y_train == 1].sample(250, random_state=seed).index\n",
    "\n",
    "# create indicator for labeled vs unlabeled\n",
    "is_labeled = pd.Series(np.zeros(len(y_train)), index=y_train.index).astype(int)\n",
    "is_labeled[idx] = 1\n",
    "is_labeled.value_counts()\n",
    "\n",
    "# adjust training dataset\n",
    "hidden_idx = y_train[(y_train == 1) & ~(y_train.index.isin(idx))].index\n",
    "\n",
    "x_train_new = x_train.loc[~x_train.index.isin(hidden_idx)]\n",
    "y_train_new = y_train.loc[~y_train.index.isin(hidden_idx)]\n",
    "\n",
    "y_train_new.value_counts()"
   ]
  },
  {
   "cell_type": "markdown",
   "metadata": {
    "colab_type": "text",
    "id": "WABb3ECY_MEj",
    "slideshow": {
     "slide_type": "notes"
    }
   },
   "source": [
    "Awesome! Now we can proceed with PU Learning!"
   ]
  },
  {
   "cell_type": "markdown",
   "metadata": {
    "colab_type": "text",
    "id": "eHipMWk5Hb_m",
    "slideshow": {
     "slide_type": "slide"
    }
   },
   "source": [
    "## Supervised Learning Benchmark\n",
    "\n",
    "Let's now make a benchmark model using an XGBoost classifier."
   ]
  },
  {
   "cell_type": "code",
   "execution_count": 10,
   "metadata": {
    "ExecuteTime": {
     "end_time": "2020-07-16T16:01:25.754353Z",
     "start_time": "2020-07-16T16:01:25.640201Z"
    },
    "colab": {},
    "colab_type": "code",
    "id": "4P5K1wTzH7gs",
    "slideshow": {
     "slide_type": "subslide"
    }
   },
   "outputs": [],
   "source": [
    "from xgboost import XGBClassifier\n",
    "from sklearn.metrics import recall_score, precision_score, roc_auc_score, \\\n",
    "                            accuracy_score, f1_score"
   ]
  },
  {
   "cell_type": "code",
   "execution_count": 11,
   "metadata": {
    "ExecuteTime": {
     "end_time": "2020-07-16T16:01:25.853102Z",
     "start_time": "2020-07-16T16:01:25.757681Z"
    },
    "colab": {
     "base_uri": "https://localhost:8080/",
     "height": 136
    },
    "colab_type": "code",
    "id": "Q7KZHXmgH2Aw",
    "outputId": "65359b84-3d4e-4d2f-e6cf-5b79562f826e",
    "slideshow": {
     "slide_type": "subslide"
    }
   },
   "outputs": [
    {
     "data": {
      "text/plain": [
       "XGBClassifier(base_score=0.5, booster='gbtree', colsample_bylevel=1,\n",
       "              colsample_bynode=1, colsample_bytree=1, gamma=0,\n",
       "              learning_rate=0.1, max_delta_step=0, max_depth=3,\n",
       "              min_child_weight=1, missing=None, n_estimators=100, n_jobs=1,\n",
       "              nthread=None, objective='binary:logistic', random_state=0,\n",
       "              reg_alpha=0, reg_lambda=1, scale_pos_weight=1, seed=None,\n",
       "              silent=None, subsample=1, verbosity=1)"
      ]
     },
     "execution_count": 11,
     "metadata": {},
     "output_type": "execute_result"
    }
   ],
   "source": [
    "model_bench = XGBClassifier()\n",
    "model_bench.fit(x_train_new, y_train_new)"
   ]
  },
  {
   "cell_type": "code",
   "execution_count": 12,
   "metadata": {
    "ExecuteTime": {
     "end_time": "2020-07-16T16:01:25.875546Z",
     "start_time": "2020-07-16T16:01:25.861323Z"
    },
    "colab": {},
    "colab_type": "code",
    "id": "-F5nDcoiIlMI",
    "slideshow": {
     "slide_type": "subslide"
    }
   },
   "outputs": [],
   "source": [
    "def evaluate_results(y_test, y_predict):\n",
    "    print('Classification results:')\n",
    "    f1 = f1_score(y_test, y_predict)\n",
    "    print(\"f1: %.2f%%\" % (f1 * 100.0)) \n",
    "    roc = roc_auc_score(y_test, y_predict)\n",
    "    print(\"roc: %.2f%%\" % (roc * 100.0)) \n",
    "    rec = recall_score(y_test, y_predict, average='binary')\n",
    "    print(\"recall: %.2f%%\" % (rec * 100.0)) \n",
    "    prc = precision_score(y_test, y_predict, average='binary')\n",
    "    print(\"precision: %.2f%%\" % (prc * 100.0))\n",
    "\n",
    "    return f1, roc, rec, prc"
   ]
  },
  {
   "cell_type": "code",
   "execution_count": 13,
   "metadata": {
    "ExecuteTime": {
     "end_time": "2020-07-16T16:01:25.918937Z",
     "start_time": "2020-07-16T16:01:25.888574Z"
    },
    "colab": {
     "base_uri": "https://localhost:8080/",
     "height": 102
    },
    "colab_type": "code",
    "id": "Mwnz1F5KIq6m",
    "outputId": "7d134561-19f9-4190-a807-9c0afb1e7664",
    "slideshow": {
     "slide_type": "subslide"
    }
   },
   "outputs": [
    {
     "name": "stdout",
     "output_type": "stream",
     "text": [
      "Classification results:\n",
      "f1: 99.34%\n",
      "roc: 99.34%\n",
      "recall: 98.68%\n",
      "precision: 100.00%\n"
     ]
    }
   ],
   "source": [
    "results_bench = evaluate_results(y_test, model_bench.predict(x_test))"
   ]
  },
  {
   "cell_type": "markdown",
   "metadata": {
    "colab_type": "text",
    "id": "QylnbGduxzmL",
    "slideshow": {
     "slide_type": "slide"
    }
   },
   "source": [
    "## Methods/Frameworks in PU Learning\n",
    "\n",
    "1. Naive Approach\n",
    "2. Two-Step Approach\n",
    "3. Weighted Positive and Unlabeled Samples"
   ]
  },
  {
   "cell_type": "markdown",
   "metadata": {
    "colab_type": "text",
    "id": "FZSYRrtwynsv",
    "slideshow": {
     "slide_type": "slide"
    }
   },
   "source": [
    "### 1. Naive Approach\n",
    "The idea is that unlabeled data with highest probabilities are more likely to be positive. In this case, the purpose of the model is to rank unlabeled data based on likelihood of being positive."
   ]
  },
  {
   "cell_type": "markdown",
   "metadata": {
    "colab_type": "text",
    "id": "4klNvWW_0GVz",
    "slideshow": {
     "slide_type": "subslide"
    }
   },
   "source": [
    "#### 1.1. Vanilla Implementation\n",
    "Train model on positive (labeled 1) and unlabeled (labeled 0)."
   ]
  },
  {
   "cell_type": "code",
   "execution_count": 14,
   "metadata": {
    "ExecuteTime": {
     "end_time": "2020-07-16T16:01:25.944521Z",
     "start_time": "2020-07-16T16:01:25.926783Z"
    },
    "colab": {
     "base_uri": "https://localhost:8080/",
     "height": 68
    },
    "colab_type": "code",
    "id": "uWtChjilYwS5",
    "outputId": "62b063c9-b8c7-4b79-d7f1-9d4300482a42",
    "slideshow": {
     "slide_type": "subslide"
    }
   },
   "outputs": [
    {
     "data": {
      "text/plain": [
       "0    779\n",
       "1    250\n",
       "dtype: int64"
      ]
     },
     "execution_count": 14,
     "metadata": {},
     "output_type": "execute_result"
    }
   ],
   "source": [
    "is_labeled.value_counts()"
   ]
  },
  {
   "cell_type": "code",
   "execution_count": 15,
   "metadata": {
    "ExecuteTime": {
     "end_time": "2020-07-16T16:01:25.971167Z",
     "start_time": "2020-07-16T16:01:25.952281Z"
    },
    "colab": {
     "base_uri": "https://localhost:8080/",
     "height": 34
    },
    "colab_type": "code",
    "id": "hkD3zXXu_jcx",
    "outputId": "086aa0c4-addf-45b5-bec6-31028ea37301",
    "slideshow": {
     "slide_type": "subslide"
    }
   },
   "outputs": [
    {
     "data": {
      "text/plain": [
       "((1029, 4), (1029,))"
      ]
     },
     "execution_count": 15,
     "metadata": {},
     "output_type": "execute_result"
    }
   ],
   "source": [
    "x_train.shape, is_labeled.shape"
   ]
  },
  {
   "cell_type": "code",
   "execution_count": 16,
   "metadata": {
    "ExecuteTime": {
     "end_time": "2020-07-16T16:01:26.085769Z",
     "start_time": "2020-07-16T16:01:25.977295Z"
    },
    "colab": {
     "base_uri": "https://localhost:8080/",
     "height": 136
    },
    "colab_type": "code",
    "id": "S6TpMSAd_wXW",
    "outputId": "a65cd9e0-37d8-4c18-a57a-d0996a821e1b",
    "slideshow": {
     "slide_type": "subslide"
    }
   },
   "outputs": [
    {
     "data": {
      "text/plain": [
       "XGBClassifier(base_score=0.5, booster='gbtree', colsample_bylevel=1,\n",
       "              colsample_bynode=1, colsample_bytree=1, gamma=0,\n",
       "              learning_rate=0.1, max_delta_step=0, max_depth=3,\n",
       "              min_child_weight=1, missing=None, n_estimators=100, n_jobs=1,\n",
       "              nthread=None, objective='binary:logistic', random_state=0,\n",
       "              reg_alpha=0, reg_lambda=1, scale_pos_weight=1, seed=None,\n",
       "              silent=None, subsample=1, verbosity=1)"
      ]
     },
     "execution_count": 16,
     "metadata": {},
     "output_type": "execute_result"
    }
   ],
   "source": [
    "model_vanilla = XGBClassifier()\n",
    "model_vanilla.fit(x_train, is_labeled)"
   ]
  },
  {
   "cell_type": "code",
   "execution_count": 17,
   "metadata": {
    "ExecuteTime": {
     "end_time": "2020-07-16T16:01:26.109505Z",
     "start_time": "2020-07-16T16:01:26.088137Z"
    },
    "colab": {
     "base_uri": "https://localhost:8080/",
     "height": 102
    },
    "colab_type": "code",
    "id": "3pxjARoM_83f",
    "outputId": "43194424-8f4e-43d5-b562-a842fec9cdd2",
    "slideshow": {
     "slide_type": "subslide"
    }
   },
   "outputs": [
    {
     "name": "stdout",
     "output_type": "stream",
     "text": [
      "Classification results:\n",
      "f1: 67.25%\n",
      "roc: 75.33%\n",
      "recall: 50.66%\n",
      "precision: 100.00%\n"
     ]
    }
   ],
   "source": [
    "results_vanilla = evaluate_results(y_test, model_vanilla.predict(x_test))"
   ]
  },
  {
   "cell_type": "markdown",
   "metadata": {
    "colab_type": "text",
    "id": "z-e17QNMx2qG",
    "slideshow": {
     "slide_type": "slide"
    }
   },
   "source": [
    "### 2. Two-Step Approach\n",
    "Step 1: Identify Reliable Negatives  \n",
    "Step 2: Build a supervised classifier iteratively"
   ]
  },
  {
   "cell_type": "markdown",
   "metadata": {
    "colab_type": "text",
    "id": "-pIdFibax5aY",
    "slideshow": {
     "slide_type": "subslide"
    }
   },
   "source": [
    "#### 2.1. Method 1 \n",
    "(Based from [web article](https://roywrightme.wordpress.com/2017/11/16/positive-unlabeled-learning/) by Roy Wright, 2017.)\n",
    "1. Train a naive classifier wherein 1 if Positive and 0 if unlabeled.\n",
    "2. Reassign labels using prediction probabilities from Step 1. For unlabeled entry $i$, if probability $p_i \\ge max(p_{+})$, then $\\text{label}_i = 1$. Else, for unlabeled entry $i$, if probability $p_i \\lt min(p_{+})$, then $\\text{label}_i = 0$. \n",
    "3. Retrain the classifier using updated labels and perform step 2.\n",
    "4. Perform step 2-3 until a predefined stopping criterion is met."
   ]
  },
  {
   "cell_type": "code",
   "execution_count": 18,
   "metadata": {
    "ExecuteTime": {
     "end_time": "2020-07-16T16:01:27.659992Z",
     "start_time": "2020-07-16T16:01:26.120192Z"
    },
    "colab": {
     "base_uri": "https://localhost:8080/",
     "height": 187
    },
    "colab_type": "code",
    "id": "i4Hn7uRBcOcN",
    "outputId": "c3e4dfb4-0b47-48f8-f6ac-4630befd2c2f",
    "slideshow": {
     "slide_type": "subslide"
    }
   },
   "outputs": [
    {
     "name": "stdout",
     "output_type": "stream",
     "text": [
      "Iteration: 0...\n",
      "Iteration: 1...\n",
      "Iteration: 2...\n",
      "Iteration: 3...\n",
      "Iteration: 4...\n",
      "Iteration: 5...\n",
      "Iteration: 6...\n",
      "Iteration: 7...\n",
      "Iteration: 8...\n",
      "Iteration: 9...\n"
     ]
    }
   ],
   "source": [
    "new_labels = is_labeled.copy()\n",
    "\n",
    "# for this demo, our stopping criterion is simply when the model \n",
    "for i in range(10):\n",
    "    print(f'Iteration: {i}...')\n",
    "    # STEP 1: we can reuse naive model from method 1. \n",
    "    # This becomes STEP 3 once new labels are updated\n",
    "    model_2step = XGBClassifier()\n",
    "    model_2step.fit(x_train, new_labels)\n",
    "\n",
    "    # STEP 2: Reassign labels\n",
    "\n",
    "    # get max and min probabilities of \n",
    "    p_ = pd.Series(model_2step.predict_proba(x_train)[:, 1],\n",
    "                   index=is_labeled.index)\n",
    "    p_max = p_[is_labeled == 1].max()\n",
    "    p_min = p_[is_labeled == 1].min()\n",
    "\n",
    "    # determine indices to be reassigned to positive\n",
    "    new_pos = (new_labels[new_labels==0].index\n",
    "               .intersection(new_labels[p_ >= p_max].index))\n",
    "    if len(new_pos) > 0:\n",
    "        new_labels.loc[new_pos] = 1\n",
    "\n",
    "    # determine indices to be reassigned to negative\n",
    "    new_neg = (new_labels[new_labels==0].index\n",
    "               .intersection(new_labels[p_ < p_min].index))\n",
    "    if len(new_pos) > 0:\n",
    "        new_labels.loc[new_neg] = 0"
   ]
  },
  {
   "cell_type": "code",
   "execution_count": 19,
   "metadata": {
    "ExecuteTime": {
     "end_time": "2020-07-16T16:01:27.708560Z",
     "start_time": "2020-07-16T16:01:27.666209Z"
    },
    "colab": {
     "base_uri": "https://localhost:8080/",
     "height": 102
    },
    "colab_type": "code",
    "id": "3lsr22JAc5ue",
    "outputId": "ce0dd054-3eba-4f0a-ea50-53ade4727565",
    "slideshow": {
     "slide_type": "subslide"
    }
   },
   "outputs": [
    {
     "name": "stdout",
     "output_type": "stream",
     "text": [
      "Classification results:\n",
      "f1: 67.25%\n",
      "roc: 75.33%\n",
      "recall: 50.66%\n",
      "precision: 100.00%\n"
     ]
    }
   ],
   "source": [
    "results_2step1 = evaluate_results(y_test, model_2step.predict(x_test))"
   ]
  },
  {
   "cell_type": "markdown",
   "metadata": {
    "colab_type": "text",
    "id": "e6qDAHfmx7rz",
    "slideshow": {
     "slide_type": "subslide"
    }
   },
   "source": [
    "#### 2.2. Method 2: Spy Method\n",
    "The spy method is very similar to the first method except that the threshold probabilities are based from the probabilities assigned by the classifier to the spies."
   ]
  },
  {
   "cell_type": "markdown",
   "metadata": {
    "slideshow": {
     "slide_type": "subslide"
    }
   },
   "source": [
    "So what are these spies? \n",
    "\n",
    "Spies are **a subset of the positive labeled entries that are mixed into the unlabeled data** when performing step 1 in method 1 above. Then, decisions on the new label assignments are based on $\\text{max}(p_{spy})$ and $\\text{min}(p_{spy})$. Then proceed to steps 3 and 4 as in method 1."
   ]
  },
  {
   "cell_type": "code",
   "execution_count": 20,
   "metadata": {
    "ExecuteTime": {
     "end_time": "2020-07-16T16:01:28.662085Z",
     "start_time": "2020-07-16T16:01:27.718844Z"
    },
    "colab": {
     "base_uri": "https://localhost:8080/",
     "height": 187
    },
    "colab_type": "code",
    "id": "EE15pXGBilQX",
    "outputId": "c86cd4ca-10e5-4fd4-99c5-d39b1544e20d",
    "slideshow": {
     "slide_type": "subslide"
    }
   },
   "outputs": [
    {
     "name": "stdout",
     "output_type": "stream",
     "text": [
      "Iteration: 0...\n",
      "Iteration: 1...\n",
      "Iteration: 2...\n",
      "Iteration: 3...\n",
      "Iteration: 4...\n",
      "Iteration: 5...\n",
      "Iteration: 6...\n",
      "Iteration: 7...\n",
      "Iteration: 8...\n",
      "Iteration: 9...\n"
     ]
    }
   ],
   "source": [
    "# create spies\n",
    "idx_spies = is_labeled[is_labeled==1].sample(20, random_state=seed).index\n",
    "\n",
    "new_labels = is_labeled.copy()\n",
    "new_labels[idx_spies] = 0\n",
    "\n",
    "# for this demo, our stopping criterion is simply when the model \n",
    "for i in range(10):\n",
    "    print(f'Iteration: {i}...')\n",
    "    # STEP 1: we can reuse naive model from method 1. \n",
    "    # This becomes STEP 3 once new labels are updated\n",
    "    model_2step_spies = XGBClassifier()\n",
    "    model_2step_spies.fit(x_train, new_labels)\n",
    "\n",
    "    # STEP 2: Reassign labels\n",
    "\n",
    "    # get max and min probabilities of \n",
    "    p_ = pd.Series(model_2step_spies.predict_proba(x_train)[:, 1],\n",
    "                 index=is_labeled.index)\n",
    "    p_max = p_[idx_spies].max()\n",
    "    p_min = p_[idx_spies].min()\n",
    "\n",
    "    # determine indices to be reassigned to positive\n",
    "    new_pos = (new_labels[new_labels==0].index\n",
    "               .intersection(new_labels[p_ >= p_max].index))\n",
    "    if len(new_pos) > 0:\n",
    "        new_labels.loc[new_pos] = 1\n",
    "\n",
    "    # determine indices to be reassigned to negative\n",
    "    new_neg = (new_labels[new_labels==0].index\n",
    "               .intersection(new_labels[p_ < p_min].index))\n",
    "    if len(new_pos) > 0:\n",
    "        new_labels.loc[new_neg] = 0"
   ]
  },
  {
   "cell_type": "code",
   "execution_count": 21,
   "metadata": {
    "ExecuteTime": {
     "end_time": "2020-07-16T16:01:28.697138Z",
     "start_time": "2020-07-16T16:01:28.664813Z"
    },
    "colab": {
     "base_uri": "https://localhost:8080/",
     "height": 102
    },
    "colab_type": "code",
    "id": "-CfOZPCAlA60",
    "outputId": "56b3e6c1-9c70-4d2f-8615-6685d4b6751a",
    "slideshow": {
     "slide_type": "subslide"
    }
   },
   "outputs": [
    {
     "name": "stdout",
     "output_type": "stream",
     "text": [
      "Classification results:\n",
      "f1: 65.49%\n",
      "roc: 74.34%\n",
      "recall: 48.68%\n",
      "precision: 100.00%\n"
     ]
    }
   ],
   "source": [
    "results_2step_spies = evaluate_results(y_test,\n",
    "                                       model_2step_spies.predict(x_test))"
   ]
  },
  {
   "cell_type": "markdown",
   "metadata": {
    "colab_type": "text",
    "id": "uVmF7lp1x9jx",
    "slideshow": {
     "slide_type": "slide"
    }
   },
   "source": [
    "### 3. Weighted Positive and Unlabeled Samples\n",
    "(Algorithm here is from the [paper](https://cseweb.ucsd.edu/~elkan/posonly.pdf) by Elkan C. and Noto K., 2008 as described in a [web article](https://towardsdatascience.com/semi-supervised-classification-of-unlabeled-data-pu-learning-81f96e96f7cb) by Alon Agmon, 2020)\n",
    "\n",
    "1. Train a classifier $f$ to predict the probability that a sample $x$ is labeled ($s=1$ if labeled and $s=0$ otherwise). This will be $P(s=1|x)$.\n",
    "2. Use classifier $f$ to predict the probability that the positive samples are labeled. This will be $P(s=1|y=1)$ which is just the mean probability of all positive samples being labeled.\n",
    "3. Use classifier $f$ to predict that sample $i$ is labeled. ($P(s=1|i)$)\n",
    "4. Estimate the probability that sample $i$ is positive by calculating $P(s=1|i) / P(s=1|y=1)$"
   ]
  },
  {
   "cell_type": "code",
   "execution_count": 22,
   "metadata": {
    "ExecuteTime": {
     "end_time": "2020-07-16T16:01:28.846780Z",
     "start_time": "2020-07-16T16:01:28.705868Z"
    },
    "colab": {
     "base_uri": "https://localhost:8080/",
     "height": 136
    },
    "colab_type": "code",
    "id": "GkgJE6qdlcnX",
    "outputId": "77877e23-af33-4a58-f012-7795d9d7dbc1",
    "slideshow": {
     "slide_type": "subslide"
    }
   },
   "outputs": [
    {
     "data": {
      "text/plain": [
       "XGBClassifier(base_score=0.5, booster='gbtree', colsample_bylevel=1,\n",
       "              colsample_bynode=1, colsample_bytree=1, gamma=0,\n",
       "              learning_rate=0.1, max_delta_step=0, max_depth=3,\n",
       "              min_child_weight=1, missing=None, n_estimators=100, n_jobs=1,\n",
       "              nthread=None, objective='binary:logistic', random_state=0,\n",
       "              reg_alpha=0, reg_lambda=1, scale_pos_weight=1, seed=None,\n",
       "              silent=None, subsample=1, verbosity=1)"
      ]
     },
     "execution_count": 22,
     "metadata": {},
     "output_type": "execute_result"
    }
   ],
   "source": [
    "# STEP 1\n",
    "model_wpu = XGBClassifier()\n",
    "model_wpu.fit(x_train, is_labeled)"
   ]
  },
  {
   "cell_type": "code",
   "execution_count": 23,
   "metadata": {
    "ExecuteTime": {
     "end_time": "2020-07-16T16:01:28.862091Z",
     "start_time": "2020-07-16T16:01:28.849847Z"
    },
    "colab": {
     "base_uri": "https://localhost:8080/",
     "height": 34
    },
    "colab_type": "code",
    "id": "kCMMqJbFl_jx",
    "outputId": "332c1f45-3c69-44c5-8539-d9e7f647d6b5",
    "slideshow": {
     "slide_type": "subslide"
    }
   },
   "outputs": [
    {
     "data": {
      "text/plain": [
       "0.62694466"
      ]
     },
     "execution_count": 23,
     "metadata": {},
     "output_type": "execute_result"
    }
   ],
   "source": [
    "# STEP 2\n",
    "p_pos_labeled = model_wpu.predict_proba(x_train.loc[is_labeled==1])[:, 1].mean()\n",
    "p_pos_labeled"
   ]
  },
  {
   "cell_type": "code",
   "execution_count": 24,
   "metadata": {
    "ExecuteTime": {
     "end_time": "2020-07-16T16:01:28.879162Z",
     "start_time": "2020-07-16T16:01:28.864901Z"
    },
    "colab": {
     "base_uri": "https://localhost:8080/",
     "height": 289
    },
    "colab_type": "code",
    "id": "5v-FBiE7mX0X",
    "outputId": "481ad490-80aa-4253-f469-e258c1b67a14",
    "slideshow": {
     "slide_type": "subslide"
    }
   },
   "outputs": [
    {
     "data": {
      "text/plain": [
       "array([0, 0, 0, 0, 0, 0, 0, 0, 0, 0, 1, 1, 0, 1, 0, 1, 1, 1, 1, 0, 0, 0,\n",
       "       1, 0, 1, 0, 0, 1, 0, 0, 1, 0, 0, 1, 1, 0, 1, 1, 1, 0, 0, 1, 1, 0,\n",
       "       1, 1, 1, 0, 0, 1, 0, 0, 0, 0, 0, 1, 0, 0, 0, 0, 1, 0, 1, 0, 0, 0,\n",
       "       0, 0, 0, 0, 1, 0, 1, 0, 0, 0, 0, 1, 1, 1, 1, 0, 1, 0, 0, 0, 0, 1,\n",
       "       1, 0, 0, 0, 0, 1, 0, 1, 1, 0, 0, 0, 1, 0, 0, 0, 1, 0, 0, 1, 1, 1,\n",
       "       1, 1, 0, 1, 1, 1, 0, 1, 1, 0, 1, 0, 1, 0, 1, 0, 1, 1, 0, 1, 1, 0,\n",
       "       0, 0, 0, 0, 1, 0, 0, 0, 0, 0, 1, 0, 1, 1, 1, 1, 1, 0, 1, 1, 0, 0,\n",
       "       1, 0, 1, 0, 0, 0, 1, 1, 1, 0, 1, 0, 1, 0, 0, 0, 0, 0, 0, 1, 0, 0,\n",
       "       1, 1, 0, 0, 0, 0, 1, 0, 1, 0, 1, 1, 0, 0, 1, 0, 0, 1, 1, 0, 0, 0,\n",
       "       0, 1, 0, 1, 0, 0, 1, 1, 0, 1, 0, 0, 0, 0, 0, 0, 0, 0, 0, 0, 1, 1,\n",
       "       1, 1, 1, 0, 1, 0, 0, 1, 1, 1, 1, 0, 0, 0, 1, 1, 1, 1, 0, 0, 0, 1,\n",
       "       0, 1, 1, 1, 0, 0, 0, 0, 0, 0, 1, 0, 0, 0, 0, 0, 1, 1, 0, 0, 0, 1,\n",
       "       0, 0, 1, 0, 1, 1, 1, 1, 0, 0, 0, 0, 0, 1, 0, 0, 1, 0, 1, 0, 0, 1,\n",
       "       0, 0, 0, 0, 0, 1, 1, 0, 1, 0, 0, 1, 0, 0, 0, 0, 0, 0, 0, 0, 1, 1,\n",
       "       0, 0, 1, 1, 0, 0, 0, 0, 0, 0, 1, 0, 1, 1, 0, 0, 0, 0, 0, 1, 0, 0,\n",
       "       0, 0, 0, 0, 0, 1, 0, 1, 1, 0, 1, 0, 1])"
      ]
     },
     "execution_count": 24,
     "metadata": {},
     "output_type": "execute_result"
    }
   ],
   "source": [
    "# STEP 3\n",
    "p_threshold = .5\n",
    "y_preds = ((model_wpu.predict_proba(x_test)[:, 1] / p_pos_labeled) >\n",
    "          p_threshold).astype(int)\n",
    "y_preds    "
   ]
  },
  {
   "cell_type": "code",
   "execution_count": 25,
   "metadata": {
    "ExecuteTime": {
     "end_time": "2020-07-16T16:01:28.901638Z",
     "start_time": "2020-07-16T16:01:28.883618Z"
    },
    "colab": {
     "base_uri": "https://localhost:8080/",
     "height": 102
    },
    "colab_type": "code",
    "id": "H-iJ7S-qm_1_",
    "outputId": "b947e96a-6f8c-4fd0-e905-3a160ab52dee",
    "slideshow": {
     "slide_type": "subslide"
    }
   },
   "outputs": [
    {
     "name": "stdout",
     "output_type": "stream",
     "text": [
      "Classification results:\n",
      "f1: 94.08%\n",
      "roc: 94.41%\n",
      "recall: 88.82%\n",
      "precision: 100.00%\n"
     ]
    }
   ],
   "source": [
    "results_wpu = evaluate_results(y_test, y_preds)"
   ]
  },
  {
   "cell_type": "markdown",
   "metadata": {
    "colab_type": "text",
    "id": "5xLPJo_moUFx",
    "slideshow": {
     "slide_type": "slide"
    }
   },
   "source": [
    "## Results"
   ]
  },
  {
   "cell_type": "code",
   "execution_count": 26,
   "metadata": {
    "ExecuteTime": {
     "end_time": "2020-07-16T16:01:28.932366Z",
     "start_time": "2020-07-16T16:01:28.904137Z"
    },
    "colab": {
     "base_uri": "https://localhost:8080/",
     "height": 204
    },
    "colab_type": "code",
    "id": "EeVnH4CznQap",
    "outputId": "220f50ef-0537-4e88-df9d-e55bee562993",
    "slideshow": {
     "slide_type": "subslide"
    }
   },
   "outputs": [
    {
     "data": {
      "text/html": [
       "<div>\n",
       "<style scoped>\n",
       "    .dataframe tbody tr th:only-of-type {\n",
       "        vertical-align: middle;\n",
       "    }\n",
       "\n",
       "    .dataframe tbody tr th {\n",
       "        vertical-align: top;\n",
       "    }\n",
       "\n",
       "    .dataframe thead th {\n",
       "        text-align: right;\n",
       "    }\n",
       "</style>\n",
       "<table border=\"1\" class=\"dataframe\">\n",
       "  <thead>\n",
       "    <tr style=\"text-align: right;\">\n",
       "      <th></th>\n",
       "      <th>f1</th>\n",
       "      <th>roc</th>\n",
       "      <th>recall</th>\n",
       "      <th>precision</th>\n",
       "    </tr>\n",
       "  </thead>\n",
       "  <tbody>\n",
       "    <tr>\n",
       "      <th>supervised</th>\n",
       "      <td>0.993377</td>\n",
       "      <td>0.993421</td>\n",
       "      <td>0.986842</td>\n",
       "      <td>1.0</td>\n",
       "    </tr>\n",
       "    <tr>\n",
       "      <th>vanilla</th>\n",
       "      <td>0.672489</td>\n",
       "      <td>0.753289</td>\n",
       "      <td>0.506579</td>\n",
       "      <td>1.0</td>\n",
       "    </tr>\n",
       "    <tr>\n",
       "      <th>two_step</th>\n",
       "      <td>0.672489</td>\n",
       "      <td>0.753289</td>\n",
       "      <td>0.506579</td>\n",
       "      <td>1.0</td>\n",
       "    </tr>\n",
       "    <tr>\n",
       "      <th>two_step_spies</th>\n",
       "      <td>0.654867</td>\n",
       "      <td>0.743421</td>\n",
       "      <td>0.486842</td>\n",
       "      <td>1.0</td>\n",
       "    </tr>\n",
       "    <tr>\n",
       "      <th>weighted_PU</th>\n",
       "      <td>0.940767</td>\n",
       "      <td>0.944079</td>\n",
       "      <td>0.888158</td>\n",
       "      <td>1.0</td>\n",
       "    </tr>\n",
       "  </tbody>\n",
       "</table>\n",
       "</div>"
      ],
      "text/plain": [
       "                      f1       roc    recall  precision\n",
       "supervised      0.993377  0.993421  0.986842        1.0\n",
       "vanilla         0.672489  0.753289  0.506579        1.0\n",
       "two_step        0.672489  0.753289  0.506579        1.0\n",
       "two_step_spies  0.654867  0.743421  0.486842        1.0\n",
       "weighted_PU     0.940767  0.944079  0.888158        1.0"
      ]
     },
     "execution_count": 26,
     "metadata": {},
     "output_type": "execute_result"
    }
   ],
   "source": [
    "cols = ['f1', 'roc', 'recall', 'precision']\n",
    "index = ['supervised', 'vanilla', 'two_step', 'two_step_spies', 'weighted_PU']\n",
    "df_results = pd.DataFrame([results_bench,\n",
    "                           results_vanilla,\n",
    "                           results_2step1,\n",
    "                           results_2step_spies,\n",
    "                           results_wpu],\n",
    "                           columns=cols,\n",
    "                           index=index)\n",
    "df_results"
   ]
  },
  {
   "cell_type": "markdown",
   "metadata": {
    "colab_type": "text",
    "id": "Itg5f0fZoXXX",
    "slideshow": {
     "slide_type": "slide"
    }
   },
   "source": [
    "## Discussion\n",
    "- From the table above, we see that **among the PU algorithms, the weighted PU approach is the closest to the performance of the Supervised Learning approach** that has information on the negative values. \n",
    "- Moreover, the weighted PU approach interestingly is basically just a Vanilla PU method but we adjust the final prediction by the mean probability of the known positive value which does not require excessive additional computation. \n",
    "- Also, since the final result is just a rescaling of the results from the vanilla PU method, this means that the ranks of unlabeled based on probability of being positive remains the same."
   ]
  },
  {
   "cell_type": "markdown",
   "metadata": {
    "colab_type": "text",
    "id": "MVwN7-hgpazy",
    "slideshow": {
     "slide_type": "slide"
    }
   },
   "source": [
    "## Conclusion\n",
    "\n",
    "Using a variant of PU Learning called **weighted PU may result to better predictive performance over tasks versus current predictive setups** that are mainly designed as vanilla PU Learning."
   ]
  },
  {
   "cell_type": "markdown",
   "metadata": {
    "colab_type": "text",
    "id": "4CUKWLvQiqTY",
    "slideshow": {
     "slide_type": "slide"
    }
   },
   "source": [
    "## TO DO\n",
    "1. Study methods further to ensure that models are properly implemented.\n",
    "2. Explore why all models have perfect precision.\n",
    "3. Explore performance on other datasets."
   ]
  }
 ],
 "metadata": {
  "colab": {
   "collapsed_sections": [],
   "name": "Positive-Unlabeled Learning",
   "provenance": [],
   "toc_visible": true
  },
  "kernelspec": {
   "display_name": "Python 3",
   "language": "python",
   "name": "python3"
  },
  "language_info": {
   "codemirror_mode": {
    "name": "ipython",
    "version": 3
   },
   "file_extension": ".py",
   "mimetype": "text/x-python",
   "name": "python",
   "nbconvert_exporter": "python",
   "pygments_lexer": "ipython3",
   "version": "3.7.6"
  },
  "toc": {
   "base_numbering": 1,
   "nav_menu": {},
   "number_sections": false,
   "sideBar": true,
   "skip_h1_title": false,
   "title_cell": "Table of Contents",
   "title_sidebar": "Contents",
   "toc_cell": false,
   "toc_position": {
    "height": "calc(100% - 180px)",
    "left": "10px",
    "top": "150px",
    "width": "242.76px"
   },
   "toc_section_display": true,
   "toc_window_display": true
  }
 },
 "nbformat": 4,
 "nbformat_minor": 1
}
